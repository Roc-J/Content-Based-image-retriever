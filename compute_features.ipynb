{
 "cells": [
  {
   "cell_type": "code",
   "execution_count": 1,
   "metadata": {},
   "outputs": [
    {
     "name": "stderr",
     "output_type": "stream",
     "text": [
      "/usr/local/lib/python2.7/dist-packages/h5py/__init__.py:36: FutureWarning: Conversion of the second argument of issubdtype from `float` to `np.floating` is deprecated. In future, it will be treated as `np.float64 == np.dtype(float).type`.\n",
      "  from ._conv import register_converters as _register_converters\n",
      "Using TensorFlow backend.\n"
     ]
    }
   ],
   "source": [
    "import numpy as np\n",
    "from keras.models import Model\n",
    "from keras.datasets import mnist\n",
    "from keras.models import load_model\n",
    "from sklearn.metrics import label_ranking_average_precision_score\n",
    "\n",
    "#loading dataset\n",
    "(x_train,y_train),(x_test,y_test)=mnist.load_data()\n",
    "\n",
    "#load previously trained model\n",
    "autoencoder=load_model('autoencoder.h5')\n",
    "encoder=Model(inputs=autoencoder.input,outputs=autoencoder.get_layer('encoder').output) #to have the output of the encoder only\n",
    "#array to score the arrays\n",
    "scores=[]\n",
    "n_test_samples=1000 #since limited computation power\n",
    "n_train_samples=[10,50,100,200,300,400,500,750,1000,2000,3000,4000,5000,6000,7000,8000,9000,10000,20000,30000,40000,50000,60000]\n",
    "\n"
   ]
  },
  {
   "cell_type": "code",
   "execution_count": 2,
   "metadata": {},
   "outputs": [],
   "source": [
    "def compute_average_precision_score(test_codes, test_labels, learned_codes, y_train, n_samples):\n",
    "    out_distances=[]\n",
    "    out_labels=[]\n",
    "    #we store the output distances labels and distances for putting in score\n",
    "    for i in range(len(test_codes)):\n",
    "        distances=[]\n",
    "        \n",
    "        for code in learned_codes:\n",
    "            distance=np.linalg.norm(code-test_codes[i])\n",
    "            distances.append(distance)\n",
    "   #store the computed distances and labels from train set\n",
    "        distances=np.array(distances)\n",
    "    \n",
    "    #scoring function replaces similar models by 1 and different ones by 0\n",
    "        labels=np.copy(y_train).astype('float32')\n",
    "        labels[labels==test_labels[i]]=1\n",
    "        labels[labels!=test_labels[i]]=0\n",
    "        labels[labels==-1]=0\n",
    "        distance_with_labels=np.stack((distances,labels),axis=-1)\n",
    "        sorted_distance_with_labels=distance_with_labels[distance_with_labels[:,0].argsort()]\n",
    "   #the distances are between 0 to 28\n",
    "        sorted_distances=0\n",
    "        sorted_distances=28-sorted_distance_with_labels[:,0]\n",
    "        sorted_labels=sorted_distance_with_labels[:,1]\n",
    "\n",
    "            #we keep only n samples closest elements from the image retrieved\n",
    "        out_distances.append(sorted_distances[:n_samples])\n",
    "        out_labels.append(sorted_labels[:n_samples])\n",
    "            \n",
    "    out_labels=np.array(out_labels)\n",
    "    out_labels_file_name = 'computed_data/out_labels_{}'.format(n_samples)\n",
    "    np.save(out_labels_file_name, out_labels)\n",
    "    \n",
    "    out_distances_file_name = 'computed_data/out_distances_{}'.format(n_samples)\n",
    "    out_distances = np.array(out_distances)\n",
    "    np.save(out_distances_file_name, out_distances)\n",
    "    \n",
    "     # Score the model based on n_samples first images retrieved\n",
    "    score = label_ranking_average_precision_score(out_labels, out_distances)\n",
    "    scores.append(score)\n",
    "    return score"
   ]
  },
  {
   "cell_type": "code",
   "execution_count": 17,
   "metadata": {},
   "outputs": [
    {
     "ename": "TypeError",
     "evalue": "slice indices must be integers or None or have an __index__ method",
     "output_type": "error",
     "traceback": [
      "\u001b[0;31m---------------------------------------------------------------------------\u001b[0m",
      "\u001b[0;31mTypeError\u001b[0m                                 Traceback (most recent call last)",
      "\u001b[0;32m<ipython-input-17-76310f386f6d>\u001b[0m in \u001b[0;36m<module>\u001b[0;34m()\u001b[0m\n\u001b[1;32m     17\u001b[0m \u001b[0;34m\u001b[0m\u001b[0m\n\u001b[1;32m     18\u001b[0m \u001b[0;32mfor\u001b[0m \u001b[0mn_train_sample\u001b[0m \u001b[0;32min\u001b[0m \u001b[0mn_train_samples\u001b[0m\u001b[0;34m:\u001b[0m\u001b[0;34m\u001b[0m\u001b[0m\n\u001b[0;32m---> 19\u001b[0;31m     \u001b[0mtest_model\u001b[0m\u001b[0;34m(\u001b[0m\u001b[0mn_test_samples\u001b[0m\u001b[0;34m,\u001b[0m\u001b[0mn_train_samples\u001b[0m\u001b[0;34m)\u001b[0m\u001b[0;34m\u001b[0m\u001b[0m\n\u001b[0m\u001b[1;32m     20\u001b[0m \u001b[0;34m\u001b[0m\u001b[0m\n\u001b[1;32m     21\u001b[0m \u001b[0;31m#store the computed scores into a file\u001b[0m\u001b[0;34m\u001b[0m\u001b[0;34m\u001b[0m\u001b[0m\n",
      "\u001b[0;32m<ipython-input-17-76310f386f6d>\u001b[0m in \u001b[0;36mtest_model\u001b[0;34m(n_test_samples, n_train_samples)\u001b[0m\n\u001b[1;32m     14\u001b[0m \u001b[0;34m\u001b[0m\u001b[0m\n\u001b[1;32m     15\u001b[0m     \u001b[0;31m#compute the score\u001b[0m\u001b[0;34m\u001b[0m\u001b[0;34m\u001b[0m\u001b[0m\n\u001b[0;32m---> 16\u001b[0;31m     \u001b[0mscore\u001b[0m\u001b[0;34m=\u001b[0m\u001b[0mcompute_average_precision_score\u001b[0m\u001b[0;34m(\u001b[0m\u001b[0mtest_set_codes\u001b[0m\u001b[0;34m[\u001b[0m\u001b[0mindexes\u001b[0m\u001b[0;34m]\u001b[0m\u001b[0;34m,\u001b[0m \u001b[0my_test\u001b[0m\u001b[0;34m[\u001b[0m\u001b[0mindexes\u001b[0m\u001b[0;34m]\u001b[0m\u001b[0;34m,\u001b[0m \u001b[0mlearned_codes\u001b[0m\u001b[0;34m,\u001b[0m \u001b[0my_train\u001b[0m\u001b[0;34m,\u001b[0m \u001b[0mn_train_samples\u001b[0m\u001b[0;34m)\u001b[0m\u001b[0;34m\u001b[0m\u001b[0m\n\u001b[0m\u001b[1;32m     17\u001b[0m \u001b[0;34m\u001b[0m\u001b[0m\n\u001b[1;32m     18\u001b[0m \u001b[0;32mfor\u001b[0m \u001b[0mn_train_sample\u001b[0m \u001b[0;32min\u001b[0m \u001b[0mn_train_samples\u001b[0m\u001b[0;34m:\u001b[0m\u001b[0;34m\u001b[0m\u001b[0m\n",
      "\u001b[0;32m<ipython-input-16-565fdf0ee894>\u001b[0m in \u001b[0;36mcompute_average_precision_score\u001b[0;34m(test_codes, test_labels, learned_codes, y_train, n_samples)\u001b[0m\n\u001b[1;32m     25\u001b[0m \u001b[0;34m\u001b[0m\u001b[0m\n\u001b[1;32m     26\u001b[0m             \u001b[0;31m#we keep only n samples closest elements from the image retrieved\u001b[0m\u001b[0;34m\u001b[0m\u001b[0;34m\u001b[0m\u001b[0m\n\u001b[0;32m---> 27\u001b[0;31m         \u001b[0mout_distances\u001b[0m\u001b[0;34m.\u001b[0m\u001b[0mappend\u001b[0m\u001b[0;34m(\u001b[0m\u001b[0msorted_distances\u001b[0m\u001b[0;34m[\u001b[0m\u001b[0;34m:\u001b[0m\u001b[0mn_samples\u001b[0m\u001b[0;34m]\u001b[0m\u001b[0;34m)\u001b[0m\u001b[0;34m\u001b[0m\u001b[0m\n\u001b[0m\u001b[1;32m     28\u001b[0m         \u001b[0mout_labels\u001b[0m\u001b[0;34m.\u001b[0m\u001b[0mappend\u001b[0m\u001b[0;34m(\u001b[0m\u001b[0msorted_labels\u001b[0m\u001b[0;34m[\u001b[0m\u001b[0;34m:\u001b[0m\u001b[0mn_samples\u001b[0m\u001b[0;34m]\u001b[0m\u001b[0;34m)\u001b[0m\u001b[0;34m\u001b[0m\u001b[0m\n\u001b[1;32m     29\u001b[0m \u001b[0;34m\u001b[0m\u001b[0m\n",
      "\u001b[0;31mTypeError\u001b[0m: slice indices must be integers or None or have an __index__ method"
     ]
    }
   ],
   "source": [
    "def test_model(n_test_samples,n_train_samples):\n",
    "    #compute features for training set\n",
    "    learned_codes=encoder.predict(x_train.reshape(x_train.shape[0],x_train.shape[1],x_train.shape[2],1))\n",
    "    learned_codes=learned_codes.reshape(learned_codes.shape[0],learned_codes.shape[1]*learned_codes.shape[2]*learned_codes.shape[3])\n",
    "    \n",
    "    #compute features for test\n",
    "    test_set_codes=encoder.predict(x_test.reshape(x_test.shape[0],x_test.shape[1],x_test.shape[2],1))\n",
    "    test_set_codes=test_set_codes.reshape(test_set_codes.shape[0],test_set_codes.shape[3]*test_set_codes.shape[1]*test_set_codes.shape[2])\n",
    "    \n",
    "    #we keep only n samples from the test set as query images\n",
    "    indexes=np.arange(len(y_test))\n",
    "    np.random.shuffle(indexes)\n",
    "    indexes=indexes[:n_test_samples]\n",
    "    \n",
    "    #compute the score\n",
    "    score=compute_average_precision_score(test_set_codes[indexes], y_test[indexes], learned_codes, y_train, n_train_samples)\n",
    "    \n",
    "for n_train_sample in n_train_samples:\n",
    "    test_model(n_test_samples,n_train_samples)\n",
    "\n",
    "#store the computed scores into a file\n",
    "np.save('computed_data/scores',np.array(scores))\n"
   ]
  },
  {
   "cell_type": "code",
   "execution_count": null,
   "metadata": {},
   "outputs": [],
   "source": [
    "def plot_noise_images():\n",
    "    denoised_images = autoencoder.predict(x_test_noisy.reshape(x_test_noisy.shape[0], x_test_noisy.shape[1], x_test_noisy.shape[2], 1))\n",
    "    test_img = x_test_noisy[0]\n",
    "    resized_test_img = cv2.resize(test_img, (280, 280))\n",
    "    cv2.imshow('input', resized_test_img)\n",
    "    cv2.waitKey(0)\n",
    "    output = denoised_images[0]\n",
    "    resized_output = cv2.resize(output, (280, 280))\n",
    "    cv2.imshow('output', resized_output)\n",
    "    cv2.waitKey(0)"
   ]
  },
  {
   "cell_type": "code",
   "execution_count": null,
   "metadata": {},
   "outputs": [],
   "source": []
  }
 ],
 "metadata": {
  "kernelspec": {
   "display_name": "Python 2",
   "language": "python",
   "name": "python2"
  },
  "language_info": {
   "codemirror_mode": {
    "name": "ipython",
    "version": 2
   },
   "file_extension": ".py",
   "mimetype": "text/x-python",
   "name": "python",
   "nbconvert_exporter": "python",
   "pygments_lexer": "ipython2",
   "version": "2.7.12"
  }
 },
 "nbformat": 4,
 "nbformat_minor": 2
}
